{
 "cells": [
  {
   "cell_type": "markdown",
   "metadata": {},
   "source": [
    "# Load Twitter Dataset\n",
    "Code is taken from prepareDataset.py\n",
    "Goes through the DynamoDB tables created and creates a dataset of 2418 tweets.\n",
    "The dataset is balanced: 1209 sarcastic, 1209 not sarcastic\n",
    "The features are all created using Java program SentimentAnalyzer.java\n",
    "\n",
    "This dataset will be used to train and test a model to detect sarcasm in tweets"
   ]
  },
  {
   "cell_type": "code",
   "execution_count": 1,
   "metadata": {},
   "outputs": [],
   "source": [
    "from prepareDataset import *"
   ]
  },
  {
   "cell_type": "code",
   "execution_count": 2,
   "metadata": {},
   "outputs": [
    {
     "name": "stdout",
     "output_type": "stream",
     "text": [
      "1209\n"
     ]
    }
   ],
   "source": [
    "tweets_search = getData(\"tweets_search\")\n",
    "tweets_stream = getData(\"tweets_sarcastic\")\n",
    "tweets = mergeDicts(tweets_search, tweets_stream)\n",
    "print(len(tweets))"
   ]
  },
  {
   "cell_type": "code",
   "execution_count": 3,
   "metadata": {},
   "outputs": [
    {
     "name": "stdout",
     "output_type": "stream",
     "text": [
      "1220\n"
     ]
    }
   ],
   "source": [
    "sample = getRandomSample(\"tweets_hashtag\", 1220)\n",
    "print(len(sample))"
   ]
  },
  {
   "cell_type": "code",
   "execution_count": 6,
   "metadata": {},
   "outputs": [
    {
     "name": "stdout",
     "output_type": "stream",
     "text": [
      "1209\n"
     ]
    }
   ],
   "source": [
    "newSample = {}\n",
    "randomSample = random.sample(range(1, 1220), 1209)\n",
    "counter = 0\n",
    "for k, v in sample.items():\n",
    "    counter = counter + 1\n",
    "    if counter not in randomSample:\n",
    "        continue\n",
    "    newSample[k] = v\n",
    "sample = newSample\n",
    "print(len(sample))"
   ]
  },
  {
   "cell_type": "code",
   "execution_count": 7,
   "metadata": {},
   "outputs": [
    {
     "name": "stdout",
     "output_type": "stream",
     "text": [
      "2418\n"
     ]
    }
   ],
   "source": [
    "tweets = mergeDicts(tweets, sample)\n",
    "print(len(tweets))"
   ]
  },
  {
   "cell_type": "code",
   "execution_count": 9,
   "metadata": {},
   "outputs": [],
   "source": [
    "gateway = JavaGateway()\n",
    "sa = gateway.entry_point.getSentimentAnalyzer()"
   ]
  },
  {
   "cell_type": "code",
   "execution_count": 10,
   "metadata": {},
   "outputs": [],
   "source": [
    "ep = EmojiParse()"
   ]
  },
  {
   "cell_type": "code",
   "execution_count": 11,
   "metadata": {},
   "outputs": [],
   "source": [
    "dynamodb = boto3.client('dynamodb')"
   ]
  },
  {
   "cell_type": "code",
   "execution_count": 15,
   "metadata": {},
   "outputs": [],
   "source": [
    "for k, v in tweets.items():\n",
    "    text, emoji, sentiment = ep.emoji_parse(k)\n",
    "\n",
    "    sarcastic = v[0]\n",
    "    id = v[1]\n",
    "\n",
    "    emojiSentiment = emoji_sentiment_average(sentiment)\n",
    "    positivity, adjacentContrast, maxPhrase, minPhrase, phraseContrast = sa.getFeatures(text)\n",
    "    emojiSentenceContrast = emojiSentiment - positivity\n",
    "\n",
    "    features = []\n",
    "    features.append({\"N\" : str(positivity)})\n",
    "    features.append({\"N\" : str(adjacentContrast)})\n",
    "    features.append({\"N\" : str(maxPhrase)})\n",
    "    features.append({\"N\" : str(minPhrase)})\n",
    "    features.append({\"N\" : str(phraseContrast)})\n",
    "    features.append({\"N\" : str(emojiSentiment)})\n",
    "    features.append({\"N\" : str(emojiSentenceContrast)})\n",
    "\n",
    "    response = dynamodb.put_item(\n",
    "        TableName=\"twitter_dataset\", \n",
    "        Item={\n",
    "        \"id\" : {\"N\" : str(id)}, \n",
    "        \"sarcastic\" : {\"BOOL\" : sarcastic},\n",
    "        \"text\" : {\"S\": text}, \n",
    "        \"features\": {\"L\": features},\n",
    "        }\n",
    "        )"
   ]
  }
 ],
 "metadata": {
  "kernelspec": {
   "display_name": "Python 3",
   "language": "python",
   "name": "python3"
  },
  "language_info": {
   "codemirror_mode": {
    "name": "ipython",
    "version": 3
   },
   "file_extension": ".py",
   "mimetype": "text/x-python",
   "name": "python",
   "nbconvert_exporter": "python",
   "pygments_lexer": "ipython3",
   "version": "3.6.5"
  }
 },
 "nbformat": 4,
 "nbformat_minor": 2
}
