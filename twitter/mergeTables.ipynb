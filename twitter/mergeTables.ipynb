{
 "cells": [
  {
   "cell_type": "markdown",
   "metadata": {},
   "source": [
    "# Sentiment Analysis of Tweets\n",
    "Play around with sentiment analysis of tweets to formulate method to engineer features."
   ]
  },
  {
   "cell_type": "markdown",
   "metadata": {},
   "source": [
    "## Import twitter data"
   ]
  },
  {
   "cell_type": "code",
   "execution_count": 1,
   "metadata": {},
   "outputs": [],
   "source": [
    "# Replace '&amp;' with 'and'\n",
    "def replaceAmp(text):\n",
    "    \"\"\"\n",
    "    Takes in string and returns string with '&amp;' replaced with 'and'\n",
    "    \"\"\"\n",
    "    return text.replace('&amp;', 'and')"
   ]
  },
  {
   "cell_type": "markdown",
   "metadata": {},
   "source": [
    "### Import data from tweets_search"
   ]
  },
  {
   "cell_type": "code",
   "execution_count": 2,
   "metadata": {},
   "outputs": [],
   "source": [
    "import boto3\n",
    "from boto3.dynamodb.conditions import Key, Attr\n",
    "\n",
    "TABLENAME = 'tweets_search'\n",
    "\n",
    "dynamodb = boto3.resource('dynamodb')\n",
    "table = dynamodb.Table(TABLENAME)"
   ]
  },
  {
   "cell_type": "code",
   "execution_count": 3,
   "metadata": {
    "scrolled": true
   },
   "outputs": [
    {
     "name": "stdout",
     "output_type": "stream",
     "text": [
      "tweets_search table item count:\n",
      "635\n"
     ]
    }
   ],
   "source": [
    "print(TABLENAME + \" table item count:\")\n",
    "print(table.item_count)"
   ]
  },
  {
   "cell_type": "code",
   "execution_count": 4,
   "metadata": {},
   "outputs": [
    {
     "name": "stdout",
     "output_type": "stream",
     "text": [
      "count: 503\n"
     ]
    }
   ],
   "source": [
    "tweets_search = {}\n",
    "response = table.scan()\n",
    "data = response['Items']\n",
    "for d in data:\n",
    "    text, sarcastic, id = d[\"text\"], d[\"sarcastic\"], d[\"id\"]\n",
    "    text = replaceAmp(text)\n",
    "    if text not in tweets_search and sarcastic:\n",
    "        tweets_search[text] = (sarcastic, id)\n",
    "    \n",
    "while response.get('LastEvaluatedKey'):\n",
    "    response = table.scan(ExclusiveStartKey=response['LastEvaluatedKey'])\n",
    "    data = response['Items']\n",
    "    for d in data:\n",
    "        text, sarcastic, id = d[\"text\"], d[\"sarcastic\"], d[\"id\"]\n",
    "        text = replaceAmp(text)\n",
    "        if text not in tweets_search and sarcastic:\n",
    "            tweets_search[text] = (sarcastic, id)\n",
    "\n",
    "print(\"count: \" + str(len(tweets_search)))"
   ]
  },
  {
   "cell_type": "markdown",
   "metadata": {},
   "source": [
    "### Import data from tweets_sarcastic"
   ]
  },
  {
   "cell_type": "code",
   "execution_count": 5,
   "metadata": {},
   "outputs": [],
   "source": [
    "TABLENAME = 'tweets_sarcastic'\n",
    "\n",
    "dynamodb = boto3.resource('dynamodb')\n",
    "table = dynamodb.Table(TABLENAME)"
   ]
  },
  {
   "cell_type": "code",
   "execution_count": 6,
   "metadata": {},
   "outputs": [
    {
     "name": "stdout",
     "output_type": "stream",
     "text": [
      "tweets_sarcastic table item count:\n",
      "197\n"
     ]
    }
   ],
   "source": [
    "print(TABLENAME + \" table item count:\")\n",
    "print(table.item_count)"
   ]
  },
  {
   "cell_type": "code",
   "execution_count": 7,
   "metadata": {},
   "outputs": [
    {
     "name": "stdout",
     "output_type": "stream",
     "text": [
      "count: 172\n"
     ]
    }
   ],
   "source": [
    "tweets_sarcastic = {}\n",
    "response = table.scan()\n",
    "data = response['Items']\n",
    "for d in data:\n",
    "    text, sarcastic, id = d[\"text\"], d[\"sarcastic\"], d[\"id\"]\n",
    "    text = replaceAmp(text)\n",
    "    if text not in tweets_sarcastic and sarcastic:\n",
    "        tweets_sarcastic[text] = (sarcastic, id)\n",
    "    \n",
    "while response.get('LastEvaluatedKey'):\n",
    "    response = table.scan(ExclusiveStartKey=response['LastEvaluatedKey'])\n",
    "    data = response['Items']\n",
    "    for d in data:\n",
    "        text, sarcastic, id = d[\"text\"], d[\"sarcastic\"], d[\"id\"]\n",
    "        text = replaceAmp(text)\n",
    "        if text not in tweets_sarcastic and sarcastic:\n",
    "            tweets_sarcastic[text] = (sarcastic, id)\n",
    "\n",
    "print(\"count: \" + str(len(tweets_sarcastic)))"
   ]
  },
  {
   "cell_type": "markdown",
   "metadata": {},
   "source": [
    "### Combine two datasets"
   ]
  },
  {
   "cell_type": "code",
   "execution_count": 8,
   "metadata": {},
   "outputs": [
    {
     "name": "stdout",
     "output_type": "stream",
     "text": [
      "count: 670\n"
     ]
    }
   ],
   "source": [
    "tweets = {}\n",
    "for k, v in tweets_search.items():\n",
    "    tweets[k] = v\n",
    "for k, v in tweets_sarcastic.items():\n",
    "    if k not in tweets:\n",
    "        tweets[k] = v\n",
    "print(\"count: \" + str(len(tweets)))"
   ]
  },
  {
   "cell_type": "code",
   "execution_count": 9,
   "metadata": {},
   "outputs": [],
   "source": [
    "count = 0\n",
    "for k, v in tweets.items():\n",
    "    if '&amp;' in k:\n",
    "        print(k)"
   ]
  },
  {
   "cell_type": "markdown",
   "metadata": {},
   "source": [
    "### Convert dictionary to pandas dataframe"
   ]
  },
  {
   "cell_type": "code",
   "execution_count": 10,
   "metadata": {},
   "outputs": [
    {
     "ename": "ImportError",
     "evalue": "No module named 'pandas'",
     "output_type": "error",
     "traceback": [
      "\u001b[0;31m---------------------------------------------------------------------------\u001b[0m",
      "\u001b[0;31mImportError\u001b[0m                               Traceback (most recent call last)",
      "\u001b[0;32m<ipython-input-10-a4a177bb5a2c>\u001b[0m in \u001b[0;36m<module>\u001b[0;34m()\u001b[0m\n\u001b[0;32m----> 1\u001b[0;31m \u001b[0;32mimport\u001b[0m \u001b[0mpandas\u001b[0m \u001b[0;32mas\u001b[0m \u001b[0mpd\u001b[0m\u001b[0;34m\u001b[0m\u001b[0m\n\u001b[0m\u001b[1;32m      2\u001b[0m \u001b[0mdf\u001b[0m \u001b[0;34m=\u001b[0m \u001b[0mpd\u001b[0m\u001b[0;34m.\u001b[0m\u001b[0mDataFrame\u001b[0m\u001b[0;34m(\u001b[0m\u001b[0mdata\u001b[0m \u001b[0;34m=\u001b[0m \u001b[0mtweets\u001b[0m\u001b[0;34m)\u001b[0m\u001b[0;34m\u001b[0m\u001b[0m\n",
      "\u001b[0;31mImportError\u001b[0m: No module named 'pandas'"
     ]
    }
   ],
   "source": [
    "import pandas as pd\n",
    "df = pd.DataFrame(data = tweets)"
   ]
  },
  {
   "cell_type": "markdown",
   "metadata": {},
   "source": [
    "## Sentiment Analysis"
   ]
  },
  {
   "cell_type": "code",
   "execution_count": null,
   "metadata": {},
   "outputs": [],
   "source": []
  }
 ],
 "metadata": {
  "kernelspec": {
   "display_name": "Python 3",
   "language": "python",
   "name": "python3"
  },
  "language_info": {
   "codemirror_mode": {
    "name": "ipython",
    "version": 3
   },
   "file_extension": ".py",
   "mimetype": "text/x-python",
   "name": "python",
   "nbconvert_exporter": "python",
   "pygments_lexer": "ipython3",
   "version": "3.6.5"
  }
 },
 "nbformat": 4,
 "nbformat_minor": 2
}
