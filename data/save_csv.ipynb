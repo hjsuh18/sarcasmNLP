{
 "cells": [
  {
   "cell_type": "markdown",
   "metadata": {},
   "source": [
    "# Import CSV\n",
    "Code to import CSV and upload data to DynamoDB database"
   ]
  },
  {
   "cell_type": "code",
   "execution_count": 1,
   "metadata": {},
   "outputs": [],
   "source": [
    "import csv"
   ]
  },
  {
   "cell_type": "code",
   "execution_count": 34,
   "metadata": {},
   "outputs": [],
   "source": [
    "FILENAME = 'sarc/main/ten.csv'\n",
    "f = open(FILENAME, 'r')"
   ]
  },
  {
   "cell_type": "code",
   "execution_count": 35,
   "metadata": {},
   "outputs": [],
   "source": [
    "reader = csv.reader(f)"
   ]
  },
  {
   "cell_type": "code",
   "execution_count": 36,
   "metadata": {},
   "outputs": [
    {
     "name": "stdout",
     "output_type": "stream",
     "text": [
      "['7x7dx']\n",
      "['c07nkao', 'c07nk63']\n",
      "['1', '0']\n",
      "['7xtxk']\n",
      "['c07pji4', 'c07ppds']\n",
      "['1', '0']\n",
      "['7zh5l']\n",
      "['c07twag', 'c07twp2']\n",
      "['1', '0']\n",
      "['80nmo']\n",
      "['c07y1rj', 'c07xhyn']\n",
      "['0', '1']\n",
      "['8139p']\n",
      "['c07yhlm', 'c07yoiw']\n",
      "['1', '0']\n",
      "['bnmod']\n",
      "['c0nnujf', 'c0nofrs']\n",
      "['1', '0']\n",
      "['boess']\n",
      "['c0ns0me', 'c0nru3a']\n",
      "['1', '0']\n",
      "['bppwt']\n",
      "['c0nyfx0', 'c0nylfu']\n",
      "['1', '0']\n",
      "['bqs92']\n",
      "['c0o4fkr', 'c0o4uu3']\n",
      "['1', '0']\n",
      "['brelu']\n",
      "['c0o78ue', 'c0o77tt']\n",
      "['0', '1']\n"
     ]
    }
   ],
   "source": [
    "for row in reader:\n",
    "    keys, comments, labels = row[0].split('|')\n",
    "    keys = keys.split()\n",
    "    comments = comments.split()\n",
    "    labels = labels.split()\n",
    "    print(keys)\n",
    "    print(comments)\n",
    "    print(labels)"
   ]
  },
  {
   "cell_type": "markdown",
   "metadata": {},
   "source": [
    "# Query DynamoDB to get text from comment id"
   ]
  },
  {
   "cell_type": "code",
   "execution_count": null,
   "metadata": {},
   "outputs": [],
   "source": [
    "import boto3\n",
    "from boto3.dynamodb.conditions import Key, Attr"
   ]
  },
  {
   "cell_type": "code",
   "execution_count": null,
   "metadata": {},
   "outputs": [],
   "source": [
    "response = table.query(\n",
    "    KeyConditionExpression=Key('id').eq(keys) # need to change variable name\n",
    ")\n",
    "items = response['Items']\n",
    "print(items)"
   ]
  },
  {
   "cell_type": "markdown",
   "metadata": {},
   "source": [
    "itmes format\n",
    "[{u'username': u'johndoe',\n",
    "  u'first_name': u'John',\n",
    "  u'last_name': u'Doe',\n",
    "  u'account_type': u'standard_user',\n",
    "  u'age': Decimal('25'),\n",
    "  u'address': {u'city': u'Los Angeles',\n",
    "               u'state': u'CA',\n",
    "               u'zipcode': Decimal('90001'),\n",
    "               u'road': u'1 Jefferson Street'}},\n",
    " {u'username': u'bobsmith',\n",
    "  u'first_name': u'Bob',\n",
    "  u'last_name': u'Smith',\n",
    "  u'account_type': u'standard_user',\n",
    "  u'age': Decimal('18'),\n",
    "  u'address': {u'city': u'Louisville',\n",
    "               u'state': u'KY',\n",
    "               u'zipcode': Decimal('40213'),\n",
    "               u'road': u'3 Madison Lane'}}]"
   ]
  }
 ],
 "metadata": {
  "kernelspec": {
   "display_name": "Python 3",
   "language": "python",
   "name": "python3"
  },
  "language_info": {
   "codemirror_mode": {
    "name": "ipython",
    "version": 3
   },
   "file_extension": ".py",
   "mimetype": "text/x-python",
   "name": "python",
   "nbconvert_exporter": "python",
   "pygments_lexer": "ipython3",
   "version": "3.6.5"
  }
 },
 "nbformat": 4,
 "nbformat_minor": 2
}
